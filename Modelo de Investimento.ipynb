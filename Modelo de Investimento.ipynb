{
 "cells": [
  {
   "cell_type": "markdown",
   "id": "0ff92a6d",
   "metadata": {},
   "source": [
    "# 1 - Importando módulos necessários"
   ]
  },
  {
   "cell_type": "code",
   "execution_count": 1,
   "id": "34c97908",
   "metadata": {},
   "outputs": [
    {
     "name": "stdout",
     "output_type": "stream",
     "text": [
      "Collecting quantstats\n",
      "  Obtaining dependency information for quantstats from https://files.pythonhosted.org/packages/bc/02/306226b38cc51972853f56866a566f224cf3855d1e3b492a774fb00c71a5/QuantStats-0.0.62-py2.py3-none-any.whl.metadata\n",
      "  Downloading QuantStats-0.0.62-py2.py3-none-any.whl.metadata (8.9 kB)\n",
      "Requirement already satisfied: pandas>=0.24.0 in c:\\users\\home\\anaconda3\\lib\\site-packages (from quantstats) (2.0.3)\n",
      "Requirement already satisfied: numpy>=1.16.5 in c:\\users\\home\\anaconda3\\lib\\site-packages (from quantstats) (1.24.3)\n",
      "Requirement already satisfied: seaborn>=0.9.0 in c:\\users\\home\\anaconda3\\lib\\site-packages (from quantstats) (0.12.2)\n",
      "Requirement already satisfied: matplotlib>=3.0.0 in c:\\users\\home\\anaconda3\\lib\\site-packages (from quantstats) (3.7.2)\n",
      "Requirement already satisfied: scipy>=1.2.0 in c:\\users\\home\\anaconda3\\lib\\site-packages (from quantstats) (1.11.1)\n",
      "Requirement already satisfied: tabulate>=0.8.0 in c:\\users\\home\\anaconda3\\lib\\site-packages (from quantstats) (0.8.10)\n",
      "Requirement already satisfied: yfinance>=0.1.70 in c:\\users\\home\\anaconda3\\lib\\site-packages (from quantstats) (0.2.37)\n",
      "Requirement already satisfied: python-dateutil>=2.0 in c:\\users\\home\\anaconda3\\lib\\site-packages (from quantstats) (2.8.2)\n",
      "Requirement already satisfied: contourpy>=1.0.1 in c:\\users\\home\\anaconda3\\lib\\site-packages (from matplotlib>=3.0.0->quantstats) (1.0.5)\n",
      "Requirement already satisfied: cycler>=0.10 in c:\\users\\home\\anaconda3\\lib\\site-packages (from matplotlib>=3.0.0->quantstats) (0.11.0)\n",
      "Requirement already satisfied: fonttools>=4.22.0 in c:\\users\\home\\anaconda3\\lib\\site-packages (from matplotlib>=3.0.0->quantstats) (4.25.0)\n",
      "Requirement already satisfied: kiwisolver>=1.0.1 in c:\\users\\home\\anaconda3\\lib\\site-packages (from matplotlib>=3.0.0->quantstats) (1.4.4)\n",
      "Requirement already satisfied: packaging>=20.0 in c:\\users\\home\\anaconda3\\lib\\site-packages (from matplotlib>=3.0.0->quantstats) (23.1)\n",
      "Requirement already satisfied: pillow>=6.2.0 in c:\\users\\home\\anaconda3\\lib\\site-packages (from matplotlib>=3.0.0->quantstats) (9.4.0)\n",
      "Requirement already satisfied: pyparsing<3.1,>=2.3.1 in c:\\users\\home\\anaconda3\\lib\\site-packages (from matplotlib>=3.0.0->quantstats) (3.0.9)\n",
      "Requirement already satisfied: pytz>=2020.1 in c:\\users\\home\\anaconda3\\lib\\site-packages (from pandas>=0.24.0->quantstats) (2023.3.post1)\n",
      "Requirement already satisfied: tzdata>=2022.1 in c:\\users\\home\\anaconda3\\lib\\site-packages (from pandas>=0.24.0->quantstats) (2023.3)\n",
      "Requirement already satisfied: six>=1.5 in c:\\users\\home\\anaconda3\\lib\\site-packages (from python-dateutil>=2.0->quantstats) (1.16.0)\n",
      "Requirement already satisfied: requests>=2.31 in c:\\users\\home\\anaconda3\\lib\\site-packages (from yfinance>=0.1.70->quantstats) (2.31.0)\n",
      "Requirement already satisfied: multitasking>=0.0.7 in c:\\users\\home\\anaconda3\\lib\\site-packages (from yfinance>=0.1.70->quantstats) (0.0.11)\n",
      "Requirement already satisfied: lxml>=4.9.1 in c:\\users\\home\\anaconda3\\lib\\site-packages (from yfinance>=0.1.70->quantstats) (4.9.3)\n",
      "Requirement already satisfied: appdirs>=1.4.4 in c:\\users\\home\\anaconda3\\lib\\site-packages (from yfinance>=0.1.70->quantstats) (1.4.4)\n",
      "Requirement already satisfied: frozendict>=2.3.4 in c:\\users\\home\\anaconda3\\lib\\site-packages (from yfinance>=0.1.70->quantstats) (2.4.1)\n",
      "Requirement already satisfied: peewee>=3.16.2 in c:\\users\\home\\anaconda3\\lib\\site-packages (from yfinance>=0.1.70->quantstats) (3.17.1)\n",
      "Requirement already satisfied: beautifulsoup4>=4.11.1 in c:\\users\\home\\anaconda3\\lib\\site-packages (from yfinance>=0.1.70->quantstats) (4.12.2)\n",
      "Requirement already satisfied: html5lib>=1.1 in c:\\users\\home\\anaconda3\\lib\\site-packages (from yfinance>=0.1.70->quantstats) (1.1)\n",
      "Requirement already satisfied: soupsieve>1.2 in c:\\users\\home\\anaconda3\\lib\\site-packages (from beautifulsoup4>=4.11.1->yfinance>=0.1.70->quantstats) (2.4)\n",
      "Requirement already satisfied: webencodings in c:\\users\\home\\anaconda3\\lib\\site-packages (from html5lib>=1.1->yfinance>=0.1.70->quantstats) (0.5.1)\n",
      "Requirement already satisfied: charset-normalizer<4,>=2 in c:\\users\\home\\anaconda3\\lib\\site-packages (from requests>=2.31->yfinance>=0.1.70->quantstats) (2.0.4)\n",
      "Requirement already satisfied: idna<4,>=2.5 in c:\\users\\home\\anaconda3\\lib\\site-packages (from requests>=2.31->yfinance>=0.1.70->quantstats) (3.4)\n",
      "Requirement already satisfied: urllib3<3,>=1.21.1 in c:\\users\\home\\anaconda3\\lib\\site-packages (from requests>=2.31->yfinance>=0.1.70->quantstats) (1.26.16)\n",
      "Requirement already satisfied: certifi>=2017.4.17 in c:\\users\\home\\anaconda3\\lib\\site-packages (from requests>=2.31->yfinance>=0.1.70->quantstats) (2023.7.22)\n",
      "Downloading QuantStats-0.0.62-py2.py3-none-any.whl (45 kB)\n",
      "   ---------------------------------------- 0.0/45.5 kB ? eta -:--:--\n",
      "   -------- ------------------------------- 10.2/45.5 kB ? eta -:--:--\n",
      "   -------------------------- ------------- 30.7/45.5 kB 640.0 kB/s eta 0:00:01\n",
      "   ---------------------------------------- 45.5/45.5 kB 560.2 kB/s eta 0:00:00\n",
      "Installing collected packages: quantstats\n",
      "Successfully installed quantstats-0.0.62\n"
     ]
    }
   ],
   "source": [
    "!pip install quantstats"
   ]
  },
  {
   "cell_type": "code",
   "execution_count": 2,
   "id": "c91a2c78",
   "metadata": {},
   "outputs": [],
   "source": [
    "import pandas as pd\n",
    "import quantstats as qs"
   ]
  },
  {
   "cell_type": "markdown",
   "id": "64c3f7c3",
   "metadata": {},
   "source": [
    "# 2 - Baixar os dados disponibilizados"
   ]
  },
  {
   "cell_type": "code",
   "execution_count": null,
   "id": "43503451",
   "metadata": {},
   "outputs": [],
   "source": [
    "dados_empresas = pd.read_csv('dados_empresas')"
   ]
  },
  {
   "cell_type": "markdown",
   "id": "4cc6423e",
   "metadata": {},
   "source": [
    "# 3 - Calcular o retorno mensal das empresas"
   ]
  },
  {
   "cell_type": "code",
   "execution_count": null,
   "id": "2adec0e4",
   "metadata": {},
   "outputs": [],
   "source": []
  },
  {
   "cell_type": "markdown",
   "id": "0a5b19c3",
   "metadata": {},
   "source": [
    "# 4 - Filtrar liquidez"
   ]
  },
  {
   "cell_type": "code",
   "execution_count": null,
   "id": "9ed0c3dd",
   "metadata": {},
   "outputs": [],
   "source": []
  },
  {
   "cell_type": "code",
   "execution_count": null,
   "id": "ec0997e6",
   "metadata": {},
   "outputs": [],
   "source": []
  },
  {
   "cell_type": "code",
   "execution_count": null,
   "id": "8c6781ac",
   "metadata": {},
   "outputs": [],
   "source": []
  },
  {
   "cell_type": "code",
   "execution_count": null,
   "id": "ad87bbbe",
   "metadata": {},
   "outputs": [],
   "source": []
  }
 ],
 "metadata": {
  "kernelspec": {
   "display_name": "Python 3 (ipykernel)",
   "language": "python",
   "name": "python3"
  },
  "language_info": {
   "codemirror_mode": {
    "name": "ipython",
    "version": 3
   },
   "file_extension": ".py",
   "mimetype": "text/x-python",
   "name": "python",
   "nbconvert_exporter": "python",
   "pygments_lexer": "ipython3",
   "version": "3.11.5"
  }
 },
 "nbformat": 4,
 "nbformat_minor": 5
}
