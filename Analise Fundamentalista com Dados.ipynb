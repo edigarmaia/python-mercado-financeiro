{
 "cells": [
  {
   "cell_type": "markdown",
   "id": "ed6e5515",
   "metadata": {},
   "source": [
    "## Projeto Renner: Como proteger a receita das empresas com a abertura de novas lojas"
   ]
  },
  {
   "cell_type": "code",
   "execution_count": null,
   "id": "265f6fd9",
   "metadata": {},
   "outputs": [],
   "source": [
    "!pip install mplcyberpunk"
   ]
  },
  {
   "cell_type": "code",
   "execution_count": null,
   "id": "a6820d83",
   "metadata": {},
   "outputs": [],
   "source": [
    "import pandas as pd\n",
    "import matplotlib.pyplot as plt\n",
    "import mplcyberpunk\n",
    "\n",
    "plt.style.use('cyberpunk')"
   ]
  },
  {
   "cell_type": "markdown",
   "id": "28406a73",
   "metadata": {},
   "source": [
    "### Coleta e tratamento de dados"
   ]
  },
  {
   "cell_type": "markdown",
   "id": "062f787a",
   "metadata": {},
   "source": [
    "#### Passo 1 - Ler e tratar os dados de lojas atuais"
   ]
  },
  {
   "cell_type": "markdown",
   "id": "9f782034",
   "metadata": {},
   "source": [
    "#### Lendo uma aba da planilha"
   ]
  },
  {
   "cell_type": "code",
   "execution_count": null,
   "id": "9cd338ab",
   "metadata": {},
   "outputs": [],
   "source": [
    "aba_planilha = 'Lista de Lojas | Stores List'"
   ]
  },
  {
   "cell_type": "markdown",
   "id": "baa41803",
   "metadata": {},
   "source": [
    "#### Escolhendo as colunas da tabela"
   ]
  },
  {
   "cell_type": "code",
   "execution_count": null,
   "id": "388a3208",
   "metadata": {},
   "outputs": [],
   "source": [
    "planilha_renner = pd.read_excel('lojas_renner.xlsx', sheet_name = aba_planilha, skiprows = 5,\n",
    "                               usecols= ['Business', 'Country', 'UF', 'State', 'City', 'Opening date',\n",
    "                                        'Shopping Mall / Street'])\n",
    "\n",
    "planilha_renner"
   ]
  },
  {
   "cell_type": "markdown",
   "id": "b8536635",
   "metadata": {},
   "source": [
    "#### Removendo os dados NaN"
   ]
  },
  {
   "cell_type": "code",
   "execution_count": null,
   "id": "8c4e222f",
   "metadata": {},
   "outputs": [],
   "source": [
    "planilha_renner = planilha_renner.dropna()\n",
    "\n",
    "planilha_renner"
   ]
  },
  {
   "cell_type": "markdown",
   "id": "b7321224",
   "metadata": {},
   "source": [
    "#### Filtrando dados da tabela"
   ]
  },
  {
   "cell_type": "code",
   "execution_count": null,
   "id": "28e4c6dd",
   "metadata": {
    "scrolled": true
   },
   "outputs": [],
   "source": [
    "planilha_renner = planilha_renner[(planilha_renner['Business'] == 'Renner') &\n",
    "                                  (planilha_renner['Country'] == 'Brazil')] \n",
    "\n",
    "planilha_renner"
   ]
  },
  {
   "cell_type": "markdown",
   "id": "adbadb1c",
   "metadata": {},
   "source": [
    "#### Convertendo para data sem a hora"
   ]
  },
  {
   "cell_type": "code",
   "execution_count": null,
   "id": "1284f49c",
   "metadata": {},
   "outputs": [],
   "source": [
    "planilha_renner['Opening date'] = pd.to_datetime(planilha_renner['Opening date']).dt.date\n",
    "\n",
    "planilha_renner"
   ]
  },
  {
   "cell_type": "markdown",
   "id": "c2c52844",
   "metadata": {},
   "source": []
  },
  {
   "cell_type": "code",
   "execution_count": null,
   "id": "507b01cd",
   "metadata": {},
   "outputs": [],
   "source": []
  },
  {
   "cell_type": "code",
   "execution_count": null,
   "id": "8052d78b",
   "metadata": {},
   "outputs": [],
   "source": []
  },
  {
   "cell_type": "code",
   "execution_count": null,
   "id": "b832d624",
   "metadata": {},
   "outputs": [],
   "source": []
  },
  {
   "cell_type": "code",
   "execution_count": null,
   "id": "743c2893",
   "metadata": {},
   "outputs": [],
   "source": []
  },
  {
   "cell_type": "code",
   "execution_count": null,
   "id": "00712b2a",
   "metadata": {},
   "outputs": [],
   "source": []
  }
 ],
 "metadata": {
  "kernelspec": {
   "display_name": "Python 3 (ipykernel)",
   "language": "python",
   "name": "python3"
  },
  "language_info": {
   "codemirror_mode": {
    "name": "ipython",
    "version": 3
   },
   "file_extension": ".py",
   "mimetype": "text/x-python",
   "name": "python",
   "nbconvert_exporter": "python",
   "pygments_lexer": "ipython3",
   "version": "3.11.5"
  }
 },
 "nbformat": 4,
 "nbformat_minor": 5
}
